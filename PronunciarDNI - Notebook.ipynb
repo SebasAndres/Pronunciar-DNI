{
 "cells": [
  {
   "cell_type": "markdown",
   "id": "1dff54ee",
   "metadata": {},
   "source": [
    "# ¿De que forma es más eficiente decir tu DNI?\n",
    "> Sebastian Andres : https://linktr.ee/sebasandres.idd\n",
    "\n",
    "La idea es evaluar la eficiencia de distintos patrones para decir cualquier DNI (*hay algunas limitaciones*), es decir ¿De qué forma agrupo los numeros para expresar mi numero de documento?\n",
    "\n",
    "Para esto, voy a suponer (puede no serlo) que la eficiencia de una frase es directamente proporcional a su contenido e inversamente proporcional a la cantidad de letras\\caracteres que contiene.\n",
    "\n",
    "Entonces, cuanto menor longitud de caracteres tenga la frase que pronuncia el dni, mas eficiente es bajo esta perspectiva.\n",
    "\n",
    "Luego, voy a hacer un algoritmo que dado un dni explore todas los patrones posibles (XX-X-XX-X-XX, ...) y devuelva los mas eficientes para ese caso.\n"
   ]
  },
  {
   "cell_type": "markdown",
   "id": "8f4793aa",
   "metadata": {},
   "source": [
    "## Idea del Algoritmo:\n",
    "\n",
    "Como inputs va a tener el DNI y n_depth, un numero que representa el nivel de profunidad (cantidad de niveles con resultados de igual eficiencia) que se busca obtener.\n",
    "\n",
    "El output es una lista de niveles. Cada nivel a su vez es una lista con patrones de igual eficiencia. \n",
    " \n",
    "    def GET_BESTS_PATTERNS (dni, n_depth) {\n",
    "        vectDni = vectorizeDni(dni) # paso el dni de int a list\n",
    "        PatronesAProbar = PermutarPatrones(len(vectDni)) # armo una lista con todas las permutaciones posibles\n",
    "        \n",
    "        Patterns = [] # armo una lista de objetos con los patrones, su pronunciacion y eficacia\n",
    "        for patron in PatronesAProbar:\n",
    "            pron = PronunciarPorPatron(dni, patron)\n",
    "            Patterns.append(Pattern(patron, pron, len(pron)))\n",
    "        \n",
    "        OrderedPatterns = OrderPatterns (Patterns)\n",
    "        Levels = GET_N_LEVELS_DEPTH(OrderedPatterns, n_depth)\n",
    "        return Levels\n",
    "    }\n",
    "        \n",
    "A continuacion la explicacion de cada uno de los sub-algoritmos usados en esta funcion:"
   ]
  },
  {
   "cell_type": "markdown",
   "id": "65024a53",
   "metadata": {},
   "source": [
    "### 1) Modulo Pronunciar: ¿Cómo pasar de un numero en INT a STRING?"
   ]
  },
  {
   "cell_type": "code",
   "execution_count": 10,
   "id": "6d63f5ab",
   "metadata": {},
   "outputs": [],
   "source": [
    "## Primero armo un modulo que pueda contar --> Practico pero muy mejorable \n",
    "\n",
    "numeros_unidad = [\"\", \"uno\", \"dos\", \"tres\", \"cuatro\", \"cinco\", \"seis\", \"siete\", \"ocho\", \"nueve\", \"diez\"]\n",
    "numeros_decena = [\"e\", \"veinti\", \"treinti\", \"cuarenti\", \"cincuenti\", \"sesenti\", \"setenti\", \"ochenti\", \"noventi\"]\n",
    "numeros_centena = [\"ciento\", \"doscientos\", \"trescientos\", \"cuatrocientos\", \"quinientos\", \"seiscientos\", \"setecientos\", \"ochocientos\", \"novecientos\"]\n",
    "# casos excepcion\n",
    "decenas_perfectas = [\"diez\", \"veinte\", \"treinta\", \"cuarenta\", \"cincuenta\", \"sesenta\", \"setenta\", \"ochenta\", \"noventa\"]\n",
    "decena_problematica = [\"once\", \"doce\", \"trece\", \"catorce\", \"quince\", \"dieciseis\", \"diecisiete\", \"dieciocho\", \"diecinueve\"]\n",
    "\n",
    "def Pronunciar (numero): # Funcional para numeros entre (0, 10**9)\n",
    "    pronunciacion = \"\"\n",
    "    if 0 <= numero < 10**9:\n",
    "        if numero < 10: # una cifra\n",
    "            if numero == 0: pronunciacion = \"cero\"\n",
    "            else: pronunciacion = numeros_unidad[numero]\n",
    "\n",
    "        elif 10 <= numero < 100: # dos cifras\n",
    "            if numero % 10 == 0:\n",
    "                pronunciacion = decenas_perfectas [(numero // 10)-1]\n",
    "            elif 11 <= numero <= 19:\n",
    "                pronunciacion = decena_problematica[(numero % 10)-1]\n",
    "            else: \n",
    "                digito2 = numero % 10\n",
    "                digito1 = (numero - digito2) // 10\n",
    "                pronunciacion = numeros_decena[digito1-1] + numeros_unidad[digito2]\n",
    "        \n",
    "        elif 100 <= numero < 1000: # tres cifras \n",
    "            if numero % 100 == 0:\n",
    "                if numero == 100: pronunciacion = \"cien\"\n",
    "                else: pronunciacion = numeros_centena[(numero//100)-1]\n",
    "            else:\n",
    "                pronunciacion = numeros_centena[(numero//100)-1] + Pronunciar(numero-(numero//100)*100)\n",
    "\n",
    "        elif 1000 <= numero < 10**6: # cuatro a seis cifras\n",
    "            if numero == 1000: pronunciacion = \"mil\"\n",
    "            else:\n",
    "                mil_i = numero // 1000\n",
    "                if mil_i == 1:\n",
    "                    pronunciacion = \"mil\" + Pronunciar (numero - mil_i*1000)\n",
    "                else:\n",
    "                    units = numero % (10**3)\n",
    "                    if units == 0:\n",
    "                        pronunciacion = Pronunciar (mil_i) + \"mil\"\n",
    "                    else:\n",
    "                        pronunciacion = Pronunciar (mil_i) + \"mil\" + Pronunciar (numero - mil_i*1000)\n",
    "\n",
    "        elif 10**6 <= numero < 10**9: # siete cifras\n",
    "            units = numero % (10**6)\n",
    "            if units == 0:\n",
    "                if numero == 10**6: pronunciacion = \"un millon\" \n",
    "                else:\n",
    "                    pronunciacion = Pronunciar(numero // 10**6) + \"millones\" \n",
    "            else:\n",
    "                pronunciacion = Pronunciar((numero // 10**6)*10**6) + Pronunciar (units)\n",
    "    else:\n",
    "        pronunciacion = \"Fuera de rango\"    \n",
    "    \n",
    "    return pronunciacion"
   ]
  },
  {
   "cell_type": "markdown",
   "id": "305197b5",
   "metadata": {},
   "source": [
    "Para evitar errores de pronunciacion (ej. Pronunciar(\"000\") = cero), defino una funcion <b>strPronunciar</b> que atrapa estos digitos. Entonces uso strings para almacenar las listas de numeros."
   ]
  },
  {
   "cell_type": "code",
   "execution_count": 2,
   "id": "2a4164ae",
   "metadata": {},
   "outputs": [],
   "source": [
    "def strPronunciar (strNumero):\n",
    "    if len(strNumero) > 1:\n",
    "        nCerosIzquierda = strNumero[:-1].count('0')\n",
    "        if strNumero[0] == '0':\n",
    "            return nCerosIzquierda * Pronunciar(0) + Pronunciar(int(strNumero[1:]))\n",
    "    return Pronunciar(int(strNumero))"
   ]
  },
  {
   "cell_type": "markdown",
   "id": "44bf8e62",
   "metadata": {},
   "source": [
    "Podes probar la funcion <b>Pronununciar</b> en la siguiente celda:"
   ]
  },
  {
   "cell_type": "code",
   "execution_count": 5,
   "id": "01535d4d",
   "metadata": {},
   "outputs": [
    {
     "name": "stdout",
     "output_type": "stream",
     "text": [
      "Contar\n",
      "Desde: 0\n",
      "Hasta: 5\n",
      "0 cero\n",
      "1 uno\n",
      "2 dos\n",
      "3 tres\n",
      "4 cuatro\n",
      "5 cinco\n"
     ]
    }
   ],
   "source": [
    "def contar (desde, hasta):\n",
    "    for numero in range(desde, hasta+1):\n",
    "        print (numero, Pronunciar(numero))\n",
    "\n",
    "print (\"Contar\")\n",
    "desde = int(input(\"Desde: \"))\n",
    "hasta = int(input(\"Hasta: \"))\n",
    "contar (desde, hasta)"
   ]
  },
  {
   "cell_type": "markdown",
   "id": "22163259",
   "metadata": {},
   "source": [
    "### Modulo PronunciarPorPatron: ¿Cómo paso de un patron como XX-XXX-XXX a una pronunciacion?\n",
    "\n",
    "A este modulo le doy como input un dni y un patron y me devuelve la pronunciacion del dni siguiendo ese patron.\n",
    "\n",
    "Funcionamiento: Armo una lista con el numero de items que tiene cada grupo. Armo los grupos con el dni provisto y concateno la pronunciacion de cada grupo."
   ]
  },
  {
   "cell_type": "code",
   "execution_count": 7,
   "id": "9e5688aa",
   "metadata": {},
   "outputs": [],
   "source": [
    "def PronunciarPorPatron (dni, patron):\n",
    "    pronunciacion = \"\" # inicializo vacia\n",
    "    vectDni = vectorizeDni(dni) # paso de int --> list\n",
    "    # cuento cuántos grupos me configura el patron y con cuantos caracteres c/u\n",
    "    grupos_lengths = [] \n",
    "    n_chars_grupo = 0\n",
    "    for ch in patron+\"-\":\n",
    "        if ch == \"-\":\n",
    "            grupos_lengths.append(n_chars_grupo)\n",
    "            n_chars_grupo = 0\n",
    "        else: \n",
    "            n_chars_grupo += 1\n",
    "    # armo cada grupo con los caracteres del dni\n",
    "    grupos = []\n",
    "    init_index = 0\n",
    "    for grupo_length in grupos_lengths:\n",
    "        list_group = vectDni[init_index : init_index + grupo_length]\n",
    "        number_group = strJoin (list_group)\n",
    "        grupos.append (number_group)        \n",
    "        init_index += grupo_length\n",
    "    # agrego a pronunciacion la pronunciacion de cada grupo, separada por un guion\n",
    "    for grupo in grupos:\n",
    "        pronunciacion += strPronunciar(grupo) + \"-\"   \n",
    "    return pronunciacion[:-1] # elimino el guion extra y devuelvo la pronunciacion\n",
    "\n",
    "## funciones auxiliares\n",
    "\n",
    "def vectorizeDni (dni):\n",
    "    return list(str(dni)) \n",
    "\n",
    "def strJoin (listaNumeros_str):\n",
    "    return \"\".join(listaNumeros_str)"
   ]
  },
  {
   "cell_type": "markdown",
   "id": "8f75d9fb",
   "metadata": {},
   "source": [
    "### PermutarPatrones: ¿De donde saco todas las permutaciones posibles?\n",
    "\n",
    "La idea es que un dni con M digitos habilita a $2^{M-1}$ patrones posibles. Pues existen M-1 barreras posibles entre cada digito, con 2 estados posibles. \n",
    "\n",
    "Entonces pienso a cada configuracion posible como un byte (o mejor dicho, lista de M-1 bits).\n",
    "\n",
    "En particular, como $\\forall i, \\exists! byte : i \\Re byte $ y busco relacionar biyectivamente $i$ con un patron, entonces uso al $byte$ como intermediario.\n",
    "\n",
    "> XXXXXXXX --> X|X|X|X|X|X|X|X\n",
    "\n",
    "Las barras (|) representan las M-1 barreras mencionadas, y solo estan presentes en la posicion j, por ejemplo, si solo si $byte[j]=1$.  \n",
    "\n",
    "> Flujo: i (int) --> 01100.. (byte) --> XX-X-XXX... (patron)\n",
    "         "
   ]
  },
  {
   "cell_type": "code",
   "execution_count": 6,
   "id": "4ae1666b",
   "metadata": {},
   "outputs": [],
   "source": [
    "def PermutarPatrones (nDigitos):\n",
    "    # Devuelve todas las permutaciones de patrones posibles \n",
    "    # Obs. Hay 2**(nDigitos-1) permutaciones posibles\n",
    "    # Agrego una barrera media entre cada numero y vario su estado\n",
    "    # Para esto hago un loop desde i=0 a i=2^(n-1) y traduzco ese numero i en estados de los bits. \n",
    "    # Cada i esta relacionado biyectivamente con un patron\n",
    "    patterns = list ()\n",
    "\n",
    "    for i in range(2**(nDigitos-1)):\n",
    "        # itero cada patron posible\n",
    "        bits = format(i, \"b\") # lo paso a un str con los bits (ej.\"0101101\")\n",
    "        bits_list = [int(n) for n in list(bits)] # [0, 1, 0, 1, 1]\n",
    "        bits_list = adaptToNBits (bits_list, nDigitos-1)\n",
    "        # Creo el i_esimo patron siguiendo el bit\n",
    "        patron_i = byte_to_patron_v1 (bits_list)\n",
    "        patterns.append (patron_i)\n",
    "\n",
    "    return patterns\n",
    "\n",
    "def adaptToNBits (bits_list, n):\n",
    "    ## Hacer que el bit tenga n digitos sin importar su tamaño\n",
    "    ## Agregar ceros a la izquierda\n",
    "    for n in range(n - len(bits_list)):\n",
    "        bits_list.insert(0, 0)\n",
    "    return bits_list\n",
    "\n",
    "def byte_to_patron_v1 (byte):\n",
    "    # v1 porque es la mas eficiente de las que probe\n",
    "    patron_i = \"X\"\n",
    "    for n in range (len(byte)):\n",
    "        if byte[n] == 1:\n",
    "            patron_i += \"-X\"\n",
    "        else:\n",
    "            patron_i += \"X\"    \n",
    "    return patron_i"
   ]
  },
  {
   "cell_type": "markdown",
   "id": "3a3aa73c",
   "metadata": {},
   "source": [
    "### OrderPatterns: Ordenar los patrones descendientemente con MergeSort\n",
    "\n",
    "La idea es ir comparando las cabezas de ambas listas. Cuando el primer elemento de una de las listas sea menor (o igual), se agrega a la lista de retorno y se elimina de la lista. Asi hasta que una de las listas quede vacia.\n",
    "Cuando esto suceda, la otra lista necesariamente va a ser mayor a cualquier elemento de la lista de retorno."
   ]
  },
  {
   "cell_type": "code",
   "execution_count": null,
   "id": "1da93765",
   "metadata": {},
   "outputs": [],
   "source": [
    "def OrderPatterns (lst):\n",
    "    if len(lst) == 1:\n",
    "        return lst\n",
    "    else:\n",
    "        middle = len(lst) // 2\n",
    "        left, right = lst[:middle], lst[middle:]\n",
    "        left = OrderPatterns(left)\n",
    "        right = OrderPatterns(right)\n",
    "        if left[-1].score < right[0].score:\n",
    "            left.extend(right)\n",
    "            return left\n",
    "        else:\n",
    "            return merge(left, right)\n",
    "\n",
    "def merge (left, right):\n",
    "    ret = []\n",
    "    while (len(left) != 0 and len(right) != 0):\n",
    "        if (left[0].score <= right[0].score):\n",
    "            ret.append(left[0])\n",
    "            left.pop(0)\n",
    "        else:\n",
    "            ret.append(right[0])\n",
    "            right.pop(0)\n",
    "    # Lo restante deberia estar ordenado y ser mayor a todo elemento en ret\n",
    "    if len(left) > 0:\n",
    "        ret.extend(left)\n",
    "    elif len(right) > 0:\n",
    "        ret.extend(right)\n",
    "    return ret"
   ]
  },
  {
   "cell_type": "markdown",
   "id": "f91dba75",
   "metadata": {},
   "source": [
    "Para simplificar los indices cree un objeto Pattern"
   ]
  },
  {
   "cell_type": "code",
   "execution_count": null,
   "id": "51225523",
   "metadata": {},
   "outputs": [],
   "source": [
    "class Pattern:\n",
    "    def __init__ (self, _patr, _pron, _score):\n",
    "        self.patr = _patr\n",
    "        self.pron = _pron\n",
    "        self.score = _score # len"
   ]
  },
  {
   "cell_type": "markdown",
   "id": "778c1d24",
   "metadata": {},
   "source": [
    "Entonces, un MergeSort me queda una lista con patrones ordenados de la forma:\n",
    "\n",
    "$Patrones = [(patr, pron, score)_0, (..., ..., ...)_1, ... , (patr, pron, score)_{2^{M-1}}]$\n",
    "\n",
    "$Patrones = [Patron_0, Patron_1, ... , Patron_{2^{M-1}}]$\n",
    "\n",
    "Con $Patrones_{j}.score <= Patrones_{i}.score <=> j <= i$"
   ]
  },
  {
   "attachments": {},
   "cell_type": "markdown",
   "id": "fe98c571",
   "metadata": {},
   "source": [
    "### Finalmente el algoritmo para obtener los n_depth niveles de profundidad \n",
    "\n",
    "Avanza en la lista hasta encontrar patrones con distinto score, aumentando el contador y terminando cuando este alcance n_depth.\n",
    "\n",
    "    def GET_N_LEVELS_DEPTH (patterns, depth):\n",
    "        j = 1\n",
    "        levels = [[patterns_[0]]]\n",
    "        for n -> n_depth-1 {\n",
    "            while (patterns[j].score == last(levels)[0].score) {\n",
    "                last(levels).append(patterns[j])\n",
    "                if j < len(patterns)-1 \n",
    "                    j++\n",
    "                else\n",
    "                    break\n",
    "            }\n",
    "            if len(levels) < n_depth:\n",
    "                levels.append([patterns[j]])\n",
    "                j ++\n",
    "            else: break  \n",
    "        }\n",
    "        return levels"
   ]
  },
  {
   "cell_type": "code",
   "execution_count": 9,
   "id": "c5d32cc1",
   "metadata": {},
   "outputs": [],
   "source": [
    "def GET_N_LEVELS_DEPTH (Patterns, n_depth):\n",
    "    j = 1\n",
    "    Levels = [[Patterns[0]]]\n",
    "    for _ in range (n_depth):\n",
    "        while ((Patterns[j].score == Levels[-1][0].score)):\n",
    "            Levels[-1].append(Patterns[j])\n",
    "            if (j < len (Patterns)-1):\n",
    "                j += 1\n",
    "            else:\n",
    "                break\n",
    "        if len(Levels) < n_depth:\n",
    "            Levels.append([Patterns[j]])\n",
    "            j += 1\n",
    "        else: \n",
    "            break\n",
    "    return Levels"
   ]
  }
 ],
 "metadata": {
  "kernelspec": {
   "display_name": "Python 3",
   "language": "python",
   "name": "python3"
  },
  "language_info": {
   "codemirror_mode": {
    "name": "ipython",
    "version": 3
   },
   "file_extension": ".py",
   "mimetype": "text/x-python",
   "name": "python",
   "nbconvert_exporter": "python",
   "pygments_lexer": "ipython3",
   "version": "3.10.9 (tags/v3.10.9:1dd9be6, Dec  6 2022, 20:01:21) [MSC v.1934 64 bit (AMD64)]"
  },
  "vscode": {
   "interpreter": {
    "hash": "6085004884d7fe2d487ef9b1c33a506ee19a6a4095578a744a51e1ad1ca70fa0"
   }
  }
 },
 "nbformat": 4,
 "nbformat_minor": 5
}
